{
 "cells": [
  {
   "cell_type": "code",
   "execution_count": null,
   "id": "cab374d4-9698-4e23-8c9d-4266c7857e70",
   "metadata": {},
   "outputs": [],
   "source": [
    "import methylprep as mtlp\n",
    "import pandas as pd"
   ]
  },
  {
   "cell_type": "code",
   "execution_count": null,
   "id": "e5c39b90-2fa6-4114-8d95-99d9d0c2a5c9",
   "metadata": {},
   "outputs": [],
   "source": [
    "mtlp.files.create_sample_sheet(\"./step01_epic_data\", output_file='SampleSheet.csv')"
   ]
  },
  {
   "cell_type": "code",
   "execution_count": null,
   "id": "fcdd52b8-3494-410b-a6ee-fd563e1a7177",
   "metadata": {},
   "outputs": [],
   "source": [
    "from collections import namedtuple\n",
    "def read_data(filename=\"GSE127985_prognosis.txt\"):\n",
    "    Bdata = namedtuple(\"Bdata\", \"batch num prognosis tag\")\n",
    "    data = []\n",
    "    with open(filename, encoding=\"utf-8\") as file:\n",
    "        for line in file.readlines():\n",
    "            if len(line.strip()) < 10:\n",
    "                continue\n",
    "            batch, num, prognosis = line.split()\n",
    "            *_, tag = prognosis.split(\"_\")\n",
    "            data.append(Bdata(batch, num, prognosis, tag))\n",
    "    return data"
   ]
  },
  {
   "cell_type": "code",
   "execution_count": null,
   "id": "f7aa2b56-e1cc-47cb-a59b-722032cd9d75",
   "metadata": {},
   "outputs": [],
   "source": [
    "aaa = read_data()\n",
    "bbb = {i.batch: i.tag for i in aaa}"
   ]
  },
  {
   "cell_type": "code",
   "execution_count": null,
   "id": "eabf6112-8b45-4242-9ff3-660baa5ae0dd",
   "metadata": {},
   "outputs": [],
   "source": [
    "aaa"
   ]
  },
  {
   "cell_type": "code",
   "execution_count": null,
   "id": "5c134f64-5ba2-4d9e-85eb-64bdeb1b6f5b",
   "metadata": {},
   "outputs": [],
   "source": [
    "sample_sheet_df = pd.read_csv(\"./GSE119260_data/SampleSheet.csv\")\n",
    "sample_sheet_df"
   ]
  },
  {
   "cell_type": "code",
   "execution_count": null,
   "id": "49ca7d25-93ae-446f-9c43-0ee167e75c8f",
   "metadata": {},
   "outputs": [],
   "source": [
    "sample_sheet_df[\"Prognosis\"] = sample_sheet_df[\"GSM_ID\"]\n",
    "sample_sheet_df"
   ]
  },
  {
   "cell_type": "code",
   "execution_count": null,
   "id": "7c3f795a-daf6-4c87-aed4-98372815d723",
   "metadata": {},
   "outputs": [],
   "source": [
    "sample_sheet_df[\"Prognosis\"] = sample_sheet_df[\"Prognosis\"].replace(bbb)\n",
    "sample_sheet_df"
   ]
  },
  {
   "cell_type": "code",
   "execution_count": null,
   "id": "31c812de-605d-46fe-98ad-14dcd596b770",
   "metadata": {},
   "outputs": [],
   "source": [
    "sample_sheet_df.to_csv(\"./GSE127985_data/SampleSheet.csv\", index=False)"
   ]
  },
  {
   "cell_type": "code",
   "execution_count": null,
   "id": "206a5337-633c-42ae-911d-5b256a3d92f8",
   "metadata": {},
   "outputs": [],
   "source": []
  }
 ],
 "metadata": {
  "kernelspec": {
   "display_name": "Python 3 (ipykernel)",
   "language": "python",
   "name": "python3"
  },
  "language_info": {
   "codemirror_mode": {
    "name": "ipython",
    "version": 3
   },
   "file_extension": ".py",
   "mimetype": "text/x-python",
   "name": "python",
   "nbconvert_exporter": "python",
   "pygments_lexer": "ipython3",
   "version": "3.9.0"
  }
 },
 "nbformat": 4,
 "nbformat_minor": 5
}
