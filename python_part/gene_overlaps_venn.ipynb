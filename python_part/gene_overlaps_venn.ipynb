{
 "cells": [
  {
   "cell_type": "code",
   "execution_count": 1,
   "metadata": {},
   "outputs": [],
   "source": [
    "import pandas as pd"
   ]
  },
  {
   "cell_type": "code",
   "execution_count": 2,
   "metadata": {},
   "outputs": [],
   "source": [
    "normal_genes_df = pd.read_excel(\"./data/gene_lists/genes_normal_dmp_list.xlsx\")\n",
    "indolent_genes_df = pd.read_excel(\"./data/gene_lists/genes_indolent_dmp_list.xlsx\")\n",
    "high_grade_genes_df = pd.read_excel(\"./data/gene_lists/genes_high_grade_dmp_list.xlsx\")\n",
    "avpc_genes_df = pd.read_excel(\"./data/gene_lists/genes_avpc_dmp_list.xlsx\")"
   ]
  },
  {
   "cell_type": "code",
   "execution_count": 3,
   "metadata": {},
   "outputs": [
    {
     "data": {
      "text/html": [
       "<div>\n",
       "<style scoped>\n",
       "    .dataframe tbody tr th:only-of-type {\n",
       "        vertical-align: middle;\n",
       "    }\n",
       "\n",
       "    .dataframe tbody tr th {\n",
       "        vertical-align: top;\n",
       "    }\n",
       "\n",
       "    .dataframe thead th {\n",
       "        text-align: right;\n",
       "    }\n",
       "</style>\n",
       "<table border=\"1\" class=\"dataframe\">\n",
       "  <thead>\n",
       "    <tr style=\"text-align: right;\">\n",
       "      <th></th>\n",
       "      <th>Gene_symbol</th>\n",
       "    </tr>\n",
       "  </thead>\n",
       "  <tbody>\n",
       "    <tr>\n",
       "      <th>0</th>\n",
       "      <td>AARS1</td>\n",
       "    </tr>\n",
       "    <tr>\n",
       "      <th>1</th>\n",
       "      <td>ARHGAP27</td>\n",
       "    </tr>\n",
       "    <tr>\n",
       "      <th>2</th>\n",
       "      <td>ARHGEF10L</td>\n",
       "    </tr>\n",
       "    <tr>\n",
       "      <th>3</th>\n",
       "      <td>BASP1-AS1</td>\n",
       "    </tr>\n",
       "    <tr>\n",
       "      <th>4</th>\n",
       "      <td>BIRC5</td>\n",
       "    </tr>\n",
       "    <tr>\n",
       "      <th>...</th>\n",
       "      <td>...</td>\n",
       "    </tr>\n",
       "    <tr>\n",
       "      <th>125</th>\n",
       "      <td>TMEM233</td>\n",
       "    </tr>\n",
       "    <tr>\n",
       "      <th>126</th>\n",
       "      <td>TMEM9</td>\n",
       "    </tr>\n",
       "    <tr>\n",
       "      <th>127</th>\n",
       "      <td>VAPB</td>\n",
       "    </tr>\n",
       "    <tr>\n",
       "      <th>128</th>\n",
       "      <td>VGLL4</td>\n",
       "    </tr>\n",
       "    <tr>\n",
       "      <th>129</th>\n",
       "      <td>WDR35-DT</td>\n",
       "    </tr>\n",
       "  </tbody>\n",
       "</table>\n",
       "<p>130 rows × 1 columns</p>\n",
       "</div>"
      ],
      "text/plain": [
       "    Gene_symbol\n",
       "0         AARS1\n",
       "1      ARHGAP27\n",
       "2     ARHGEF10L\n",
       "3     BASP1-AS1\n",
       "4         BIRC5\n",
       "..          ...\n",
       "125     TMEM233\n",
       "126       TMEM9\n",
       "127        VAPB\n",
       "128       VGLL4\n",
       "129    WDR35-DT\n",
       "\n",
       "[130 rows x 1 columns]"
      ]
     },
     "execution_count": 3,
     "metadata": {},
     "output_type": "execute_result"
    }
   ],
   "source": [
    "avpc_genes_df"
   ]
  },
  {
   "cell_type": "code",
   "execution_count": 4,
   "metadata": {},
   "outputs": [],
   "source": [
    "# Convert each 'Gene_symbol' column to a set\n",
    "normal_genes_set = set(normal_genes_df['Gene_symbol'])\n",
    "indolent_genes_set = set(indolent_genes_df['Gene_symbol'])\n",
    "high_grade_genes_set = set(high_grade_genes_df['Gene_symbol'])\n",
    "avpc_genes_set = set(avpc_genes_df['Gene_symbol'])"
   ]
  },
  {
   "cell_type": "code",
   "execution_count": 5,
   "metadata": {},
   "outputs": [],
   "source": [
    "# Find exclusive genes for each dataframe\n",
    "unique_normal_genes = normal_genes_set - (indolent_genes_set | high_grade_genes_set | avpc_genes_set)\n",
    "unique_indolent_genes = indolent_genes_set - (normal_genes_set | high_grade_genes_set | avpc_genes_set)\n",
    "unique_high_grade_genes = high_grade_genes_set - (normal_genes_set | indolent_genes_set | avpc_genes_set)\n",
    "unique_avpc_genes = avpc_genes_set - (normal_genes_set | indolent_genes_set | high_grade_genes_set)"
   ]
  },
  {
   "cell_type": "code",
   "execution_count": 6,
   "metadata": {},
   "outputs": [],
   "source": [
    "# Convert to DataFrames for easier viewing and manipulation if needed\n",
    "unique_normal_genes_df = pd.DataFrame(unique_normal_genes, columns=['Exclusive_Gene_Symbols_Normal'])\n",
    "unique_indolent_genes_df = pd.DataFrame(unique_indolent_genes, columns=['Exclusive_Gene_Symbols_Indolent'])\n",
    "unique_high_grade_genes_df = pd.DataFrame(unique_high_grade_genes, columns=['Exclusive_Gene_Symbols_High_Grade'])\n",
    "unique_avpc_genes_df = pd.DataFrame(unique_avpc_genes, columns=['Exclusive_Gene_Symbols_AVPC'])"
   ]
  },
  {
   "cell_type": "code",
   "execution_count": 11,
   "metadata": {},
   "outputs": [
    {
     "data": {
      "text/html": [
       "<div>\n",
       "<style scoped>\n",
       "    .dataframe tbody tr th:only-of-type {\n",
       "        vertical-align: middle;\n",
       "    }\n",
       "\n",
       "    .dataframe tbody tr th {\n",
       "        vertical-align: top;\n",
       "    }\n",
       "\n",
       "    .dataframe thead th {\n",
       "        text-align: right;\n",
       "    }\n",
       "</style>\n",
       "<table border=\"1\" class=\"dataframe\">\n",
       "  <thead>\n",
       "    <tr style=\"text-align: right;\">\n",
       "      <th></th>\n",
       "      <th>Exclusive_Gene_Symbols_Indolent</th>\n",
       "    </tr>\n",
       "  </thead>\n",
       "  <tbody>\n",
       "    <tr>\n",
       "      <th>0</th>\n",
       "      <td>ENSG00000171791.14</td>\n",
       "    </tr>\n",
       "    <tr>\n",
       "      <th>1</th>\n",
       "      <td>TMEM79</td>\n",
       "    </tr>\n",
       "    <tr>\n",
       "      <th>2</th>\n",
       "      <td>CD27</td>\n",
       "    </tr>\n",
       "    <tr>\n",
       "      <th>3</th>\n",
       "      <td>ENSG00000161547.17</td>\n",
       "    </tr>\n",
       "  </tbody>\n",
       "</table>\n",
       "</div>"
      ],
      "text/plain": [
       "  Exclusive_Gene_Symbols_Indolent\n",
       "0              ENSG00000171791.14\n",
       "1                          TMEM79\n",
       "2                            CD27\n",
       "3              ENSG00000161547.17"
      ]
     },
     "execution_count": 11,
     "metadata": {},
     "output_type": "execute_result"
    }
   ],
   "source": [
    "unique_indolent_genes_df"
   ]
  },
  {
   "cell_type": "code",
   "execution_count": null,
   "metadata": {},
   "outputs": [],
   "source": []
  }
 ],
 "metadata": {
  "kernelspec": {
   "display_name": ".venv",
   "language": "python",
   "name": "python3"
  },
  "language_info": {
   "codemirror_mode": {
    "name": "ipython",
    "version": 3
   },
   "file_extension": ".py",
   "mimetype": "text/x-python",
   "name": "python",
   "nbconvert_exporter": "python",
   "pygments_lexer": "ipython3",
   "version": "3.10.15"
  }
 },
 "nbformat": 4,
 "nbformat_minor": 2
}
