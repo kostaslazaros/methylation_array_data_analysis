{
 "cells": [
  {
   "cell_type": "code",
   "execution_count": null,
   "metadata": {},
   "outputs": [],
   "source": [
    "import pandas as pd"
   ]
  },
  {
   "cell_type": "code",
   "execution_count": null,
   "metadata": {},
   "outputs": [],
   "source": [
    "avpc_df = pd.read_excel(\"./data/intersection_lists/avpc_intersection.xlsx\")\n",
    "high_grade_df = pd.read_excel(\"./data/intersection_lists/high_grade_intersection.xlsx\")\n",
    "indolent_df = pd.read_excel(\"./data/intersection_lists/indolent_intersection.xlsx\")\n",
    "normal_df = pd.read_excel(\"./data/intersection_lists/normal_intersection.xlsx\")"
   ]
  },
  {
   "cell_type": "code",
   "execution_count": null,
   "metadata": {},
   "outputs": [],
   "source": [
    "# Assuming your four dataframes are named df1, df2, df3, df4\n",
    "merged_df = pd.concat([avpc_df, high_grade_df, indolent_df, normal_df], ignore_index=True)\n",
    "merged_df"
   ]
  },
  {
   "cell_type": "code",
   "execution_count": null,
   "metadata": {},
   "outputs": [],
   "source": [
    "# Drop duplicates to keep unique values in the \"significant DMPs\" column\n",
    "unique_df = merged_df.drop_duplicates(subset=\"Name\")\n",
    "# Reset the index if desired\n",
    "unique_df = unique_df.reset_index(drop=True)\n",
    "unique_df"
   ]
  },
  {
   "cell_type": "code",
   "execution_count": null,
   "metadata": {},
   "outputs": [],
   "source": [
    "# Save the unique dataframe to an Excel file\n",
    "unique_df.to_excel(\"./data/intersection_lists/merged_unique_DMPs.xlsx\", index=False)"
   ]
  },
  {
   "cell_type": "code",
   "execution_count": null,
   "metadata": {},
   "outputs": [],
   "source": []
  }
 ],
 "metadata": {
  "kernelspec": {
   "display_name": ".venv",
   "language": "python",
   "name": "python3"
  },
  "language_info": {
   "codemirror_mode": {
    "name": "ipython",
    "version": 3
   },
   "file_extension": ".py",
   "mimetype": "text/x-python",
   "name": "python",
   "nbconvert_exporter": "python",
   "pygments_lexer": "ipython3",
   "version": "3.10.15"
  }
 },
 "nbformat": 4,
 "nbformat_minor": 2
}
